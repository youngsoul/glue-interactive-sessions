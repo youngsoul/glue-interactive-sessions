{
 "cells": [
  {
   "cell_type": "code",
   "execution_count": 105,
   "outputs": [
    {
     "name": "stdout",
     "output_type": "stream",
     "text": [
      "\n",
      "Available Magic Commands\n",
      "\n",
      "## Sessions Magics\n",
      "%help | Return a list of descriptions and input types for all magic commands. \n",
      "%profile | String | Specify a profile in your aws configuration to use as the credentials provider.\n",
      "%region | String | Specify the AWS region in which to initialize a session | Default from ~/.aws/configure\n",
      "%idle_timeout | Int | The number of minutes of inactivity after which a session will timeout. The default idle timeout value is 2880 minutes (48 hours).\n",
      "%session_id | Returns the session ID for the running session. \n",
      "%session_id_prefix | String | Define a String that will precede all session IDs in the format [session_id_prefix]-[session_id]. If a session ID is not provided, a random UUID will be generated.\n",
      "%status | Returns the status of the current Glue session including its duration, configuration and executing user / role.\n",
      "%list_sessions | Lists all currently running sessions by name and ID.\n",
      "%stop_session | Stops the current session.\n",
      "%glue_version | String | The version of Glue to be used by this session. Currently, the only valid options are 2.0 and 3.0. The default value is 2.0.\n",
      "%streaming | String | Changes the session type to Glue Streaming. \n",
      "%etl | String | Changes the session type to Glue ETL. \n",
      "\n",
      "## Glue Config Magics\n",
      "%%configure | Dictionary | A json-formatted dictionary consisting of all configuration parameters for a session. Each parameter can be specified here or through individual magics.\n",
      "%iam_role | String | Specify an IAM role ARN to execute your session with. | Default from ~/.aws/configure\n",
      "%number_of_workers | int | The number of workers of a defined worker_type that are allocated when a job runs. worker_type must be set too. The default number_of_workers is 5.\n",
      "%worker_type | String | Standard, G.1X, or G.2X. number_of_workers must be set too. The default worker_type is G.1X.\n",
      "%security_config | String | Define a Security Configuration to be used with this session. \n",
      "%connections | List | Specify a comma separated list of connections to use in the session.\n",
      "%additional_python_modules | List | Comma separated list of additional Python modules to include in your cluster (can be from Pypi or S3).\n",
      "%extra_py_files | List | Comma separated list of additional Python files From S3.\n",
      "%extra_jars | List | Comma separated list of additional Jars to include in the cluster.\n",
      "%spark_conf | String | Specify custom spark configurations for your session. E.g. %spark_conf spark.serializer=org.apache.spark.serializer.KryoSerializer\n",
      "\n",
      "## Action Magics\n",
      "%%sql | String | Run SQL code. All lines after the initial %%sql magic will be passed as part of the SQL code. \n",
      "\n"
     ]
    }
   ],
   "source": [
    "%help"
   ],
   "metadata": {
    "collapsed": false
   }
  },
  {
   "cell_type": "code",
   "execution_count": 103,
   "outputs": [
    {
     "name": "stdout",
     "output_type": "stream",
     "text": [
      "You are already connected to session 8b0e800e-6a7e-4409-a289-072016434cb5. Your change will not reflect in the current session, but it will affect future new sessions. \n",
      "\n",
      "Previous number of workers: 2\n",
      "Setting new number of workers to: 2\n",
      "You are already connected to session 8b0e800e-6a7e-4409-a289-072016434cb5. Your change will not reflect in the current session, but it will affect future new sessions. \n",
      "\n",
      "Current idle_timeout is 15 minutes.\n",
      "idle_timeout has been set to 15 minutes.\n",
      "You are already connected to session 8b0e800e-6a7e-4409-a289-072016434cb5. Your change will not reflect in the current session, but it will affect future new sessions. \n",
      "\n",
      "Setting Glue version to: 3.0\n"
     ]
    }
   ],
   "source": [
    "%number_of_workers 2\n",
    "%idle_timeout 15\n",
    "%glue_version 3.0\n"
   ],
   "metadata": {
    "collapsed": false
   }
  },
  {
   "cell_type": "code",
   "execution_count": 107,
   "outputs": [
    {
     "name": "stdout",
     "output_type": "stream",
     "text": [
      "You are already connected to session 8b0e800e-6a7e-4409-a289-072016434cb5. Your change will not reflect in the current session, but it will affect future new sessions. \n",
      "\n",
      "Previous profile: sandbox\n",
      "Setting new profile to: sandbox\n"
     ]
    }
   ],
   "source": [
    "%profile sandbox"
   ],
   "metadata": {
    "collapsed": false
   }
  },
  {
   "cell_type": "code",
   "execution_count": 13,
   "outputs": [
    {
     "name": "stdout",
     "output_type": "stream",
     "text": [
      "<pyspark.sql.session.SparkSession object at 0x7fedb3f4d2d0>\n"
     ]
    }
   ],
   "source": [
    "spark"
   ],
   "metadata": {
    "collapsed": false
   }
  },
  {
   "cell_type": "code",
   "execution_count": 109,
   "outputs": [
    {
     "name": "stdout",
     "output_type": "stream",
     "text": [
      "Session ID: 8b0e800e-6a7e-4409-a289-072016434cb5\n",
      "Status: READY\n",
      "Role: arn:aws:iam::127945929854:role/pryan_glue_interactive_role\n",
      "CreatedOn: 2022-11-02 13:51:04.831000-05:00\n",
      "GlueVersion: 3.0\n",
      "Worker Type: G.1X\n",
      "Number of Workers: 2\n",
      "Region: us-east-1\n",
      "Applying the following default arguments:\n",
      "--glue_kernel_version 0.36\n",
      "--enable-glue-datacatalog true\n",
      "Arguments Passed: ['--glue_kernel_version: 0.36', '--enable-glue-datacatalog: true']\n"
     ]
    }
   ],
   "source": [
    "%status"
   ],
   "metadata": {
    "collapsed": false
   }
  },
  {
   "cell_type": "markdown",
   "source": [
    "Run the following code in each cell, which is the boilerplate syntax for AWS Glue:"
   ],
   "metadata": {
    "collapsed": false
   }
  },
  {
   "cell_type": "code",
   "execution_count": 20,
   "outputs": [
    {
     "name": "stdout",
     "output_type": "stream",
     "text": [
      "\n"
     ]
    }
   ],
   "source": [
    "import sys\n",
    "from awsglue.transforms import *\n",
    "from awsglue.utils import getResolvedOptions\n",
    "from pyspark.context import SparkContext\n",
    "from awsglue.context import GlueContext\n",
    "from awsglue.job import Job\n",
    "glueContext = GlueContext(SparkContext.getOrCreate())"
   ],
   "metadata": {
    "collapsed": false
   }
  },
  {
   "cell_type": "markdown",
   "source": [
    "Read the publicly available Medicare Provider payment data in the AWS Glue data preparation sample document:"
   ],
   "metadata": {
    "collapsed": false
   }
  },
  {
   "cell_type": "code",
   "execution_count": 24,
   "outputs": [
    {
     "name": "stdout",
     "output_type": "stream",
     "text": [
      "Count: 163065\n",
      "root\n",
      "|-- DRG Definition: string\n",
      "|-- Provider Id: string\n",
      "|-- Provider Name: string\n",
      "|-- Provider Street Address: string\n",
      "|-- Provider City: string\n",
      "|-- Provider State: string\n",
      "|-- Provider Zip Code: string\n",
      "|-- Hospital Referral Region Description: string\n",
      "|-- Total Discharges: string\n",
      "|-- Average Covered Charges: string\n",
      "|-- Average Total Payments: string\n",
      "|-- Average Medicare Payments: string\n"
     ]
    }
   ],
   "source": [
    "medicare_dynamicframe = glueContext.create_dynamic_frame.from_options(\n",
    "    's3',\n",
    "    {'paths': ['s3://awsglue-datasets/examples/medicare/Medicare_Hospital_Provider.csv']},\n",
    "    'csv',\n",
    "    {'withHeader': True})\n",
    "print(\"Count:\",medicare_dynamicframe.count())\n",
    "medicare_dynamicframe.printSchema()"
   ],
   "metadata": {
    "collapsed": false
   }
  },
  {
   "cell_type": "markdown",
   "source": [
    "Change the data type of the provider ID to long to resolve all incoming data to long"
   ],
   "metadata": {
    "collapsed": false
   }
  },
  {
   "cell_type": "code",
   "execution_count": 28,
   "outputs": [
    {
     "name": "stdout",
     "output_type": "stream",
     "text": [
      "root\n",
      "|-- DRG Definition: string\n",
      "|-- Provider Id: long\n",
      "|-- Provider Name: string\n",
      "|-- Provider Street Address: string\n",
      "|-- Provider City: string\n",
      "|-- Provider State: string\n",
      "|-- Provider Zip Code: string\n",
      "|-- Hospital Referral Region Description: string\n",
      "|-- Total Discharges: string\n",
      "|-- Average Covered Charges: string\n",
      "|-- Average Total Payments: string\n",
      "|-- Average Medicare Payments: string\n"
     ]
    }
   ],
   "source": [
    "medicare_res = medicare_dynamicframe.resolveChoice(specs = [('Provider Id','cast:long')])\n",
    "medicare_res.printSchema()"
   ],
   "metadata": {
    "collapsed": false
   }
  },
  {
   "cell_type": "markdown",
   "source": [
    "Display the providers"
   ],
   "metadata": {
    "collapsed": false
   }
  },
  {
   "cell_type": "code",
   "execution_count": 32,
   "outputs": [
    {
     "name": "stdout",
     "output_type": "stream",
     "text": [
      "+-----------------------------------+\n",
      "|Provider Name                      |\n",
      "+-----------------------------------+\n",
      "|SOUTHEAST ALABAMA MEDICAL CENTER   |\n",
      "|MARSHALL MEDICAL CENTER SOUTH      |\n",
      "|ELIZA COFFEE MEMORIAL HOSPITAL     |\n",
      "|ST VINCENT'S EAST                  |\n",
      "|SHELBY BAPTIST MEDICAL CENTER      |\n",
      "|BAPTIST MEDICAL CENTER SOUTH       |\n",
      "|EAST ALABAMA MEDICAL CENTER AND SNF|\n",
      "|UNIVERSITY OF ALABAMA HOSPITAL     |\n",
      "|HUNTSVILLE HOSPITAL                |\n",
      "|GADSDEN REGIONAL MEDICAL CENTER    |\n",
      "+-----------------------------------+\n",
      "only showing top 10 rows\n"
     ]
    }
   ],
   "source": [
    "medicare_res.toDF().select('Provider Name').show(10,truncate=False)"
   ],
   "metadata": {
    "collapsed": false
   }
  },
  {
   "cell_type": "code",
   "execution_count": 111,
   "outputs": [
    {
     "name": "stdout",
     "output_type": "stream",
     "text": [
      "Session ID: 8b0e800e-6a7e-4409-a289-072016434cb5\n",
      "Status: READY\n",
      "Role: arn:aws:iam::127945929854:role/pryan_glue_interactive_role\n",
      "CreatedOn: 2022-11-02 13:51:04.831000-05:00\n",
      "GlueVersion: 3.0\n",
      "Worker Type: G.1X\n",
      "Number of Workers: 2\n",
      "Region: us-east-1\n",
      "Applying the following default arguments:\n",
      "--glue_kernel_version 0.36\n",
      "--enable-glue-datacatalog true\n",
      "Arguments Passed: ['--glue_kernel_version: 0.36', '--enable-glue-datacatalog: true']\n"
     ]
    }
   ],
   "source": [
    "%status"
   ],
   "metadata": {
    "collapsed": false
   }
  },
  {
   "cell_type": "code",
   "execution_count": 115,
   "outputs": [
    {
     "name": "stdout",
     "output_type": "stream",
     "text": [
      "The first 6 sessions are:\n",
      "6f2eb17e-e325-4fbc-8104-b3b2a24fd010\n",
      "6fd5e261-3ab4-42e4-b644-9d1ff83632d6\n",
      "8063b947-778a-4486-a826-1598b5fb3012\n",
      "8b0e800e-6a7e-4409-a289-072016434cb5\n",
      "a809ec9d-79d5-4cc3-8139-96623e5d5e51\n",
      "c8fe8666-dfc4-4a5b-92e5-1ecfdb14bf89\n"
     ]
    }
   ],
   "source": [
    "%list_sessions"
   ],
   "metadata": {
    "collapsed": false
   }
  },
  {
   "cell_type": "code",
   "execution_count": 117,
   "outputs": [
    {
     "name": "stdout",
     "output_type": "stream",
     "text": [
      "Session ID: 8b0e800e-6a7e-4409-a289-072016434cb5\n",
      "Status: READY\n",
      "Role: arn:aws:iam::127945929854:role/pryan_glue_interactive_role\n",
      "CreatedOn: 2022-11-02 13:51:04.831000-05:00\n",
      "GlueVersion: 3.0\n",
      "Worker Type: G.1X\n",
      "Number of Workers: 2\n",
      "Region: us-east-1\n",
      "Applying the following default arguments:\n",
      "--glue_kernel_version 0.36\n",
      "--enable-glue-datacatalog true\n",
      "Arguments Passed: ['--glue_kernel_version: 0.36', '--enable-glue-datacatalog: true']\n"
     ]
    }
   ],
   "source": [
    "%status"
   ],
   "metadata": {
    "collapsed": false
   }
  },
  {
   "cell_type": "code",
   "execution_count": 121,
   "outputs": [
    {
     "name": "stdout",
     "output_type": "stream",
     "text": [
      "Stopping session: 8b0e800e-6a7e-4409-a289-072016434cb5\n",
      "Stopped session.\n"
     ]
    }
   ],
   "source": [
    "%stop_session"
   ],
   "metadata": {
    "collapsed": false
   }
  },
  {
   "cell_type": "code",
   "execution_count": 124,
   "outputs": [
    {
     "name": "stderr",
     "output_type": "stream",
     "text": [
      "UsageError: Line magic function `%delete_session` not found.\n"
     ]
    }
   ],
   "source": [
    "%delete_session"
   ],
   "metadata": {
    "collapsed": false
   }
  },
  {
   "cell_type": "code",
   "execution_count": null,
   "outputs": [],
   "source": [],
   "metadata": {
    "collapsed": false
   }
  }
 ],
 "metadata": {
  "kernelspec": {
   "name": "glue_pyspark",
   "language": "python",
   "display_name": "Glue PySpark"
  },
  "language_info": {
   "codemirror_mode": {
    "name": "ipython",
    "version": 2
   },
   "file_extension": ".py",
   "mimetype": "text/x-python",
   "name": "python",
   "nbconvert_exporter": "python",
   "pygments_lexer": "ipython2",
   "version": "2.7.6"
  }
 },
 "nbformat": 4,
 "nbformat_minor": 0
}
